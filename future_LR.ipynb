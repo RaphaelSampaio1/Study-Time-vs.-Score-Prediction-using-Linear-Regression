{
 "cells": [
  {
   "cell_type": "markdown",
   "metadata": {},
   "source": [
    "# Predict the Score without to look for the past"
   ]
  },
  {
   "cell_type": "code",
   "execution_count": 1,
   "metadata": {},
   "outputs": [],
   "source": [
    "import numpy as np\n",
    "import matplotlib.pyplot as plt\n",
    "from sklearn.linear_model import LinearRegression\n",
    "from sklearn.model_selection import train_test_split\n",
    "from sklearn.model_selection import cross_val_predict\n",
    "import joblib\n",
    "\n",
    "time_studied = np.array([20, 50, 32, 65, 23, 43, 10, 5, 22, 35, 29, 5, 56]).reshape(-1, 1)\n",
    "scores = np.array([56, 83, 47, 93, 47, 82, 45, 23, 55, 67, 57, 4, 89]).reshape(-1, 1)"
   ]
  },
  {
   "cell_type": "markdown",
   "metadata": {},
   "source": [
    "## Define the base ``test`` and ``train``"
   ]
  },
  {
   "cell_type": "code",
   "execution_count": 2,
   "metadata": {},
   "outputs": [],
   "source": [
    "time_train, time_test, score_train, score_test = train_test_split(time_studied, # X\n",
    "                                                                   scores , # Y\n",
    "                                                                   test_size= 0.2) # 20% of the data will be used for [test] the model "
   ]
  },
  {
   "cell_type": "markdown",
   "metadata": {},
   "source": [
    "## Plot the graphic"
   ]
  },
  {
   "cell_type": "code",
   "execution_count": 3,
   "metadata": {},
   "outputs": [
    {
     "name": "stdout",
     "output_type": "stream",
     "text": [
      "Score: -2.4082333708846293\n"
     ]
    },
    {
     "data": {
      "text/plain": [
       "[<matplotlib.lines.Line2D at 0x1aa3513edc0>]"
      ]
     },
     "execution_count": 3,
     "metadata": {},
     "output_type": "execute_result"
    },
    {
     "data": {
      "image/png": "[encoded data removed]",
      "text/plain": [
       "<Figure size 640x480 with 1 Axes>"
      ]
     },
     "metadata": {},
     "output_type": "display_data"
    }
   ],
   "source": [
    "model = LinearRegression()\n",
    "model.fit(X= time_train, y= score_train) # Model use to predict\n",
    "\n",
    "print(f\"Score: {model.score( X= time_test, y= score_test)}\") # See if the score is good (the closer 1 the better)\n",
    "\n",
    "\n",
    "plt.scatter(time_train ,score_train)\n",
    "plt.plot(np.linspace(0, 70, 100).reshape(-1, 1),\n",
    "         model.predict(np.linspace(0, 70, 100).reshape(-1, 1)),\n",
    "         \"r\",\n",
    "         linewidth=2)"
   ]
  },
  {
   "cell_type": "markdown",
   "metadata": {},
   "source": [
    "## Implementing Cross-Validation"
   ]
  },
  {
   "cell_type": "code",
   "execution_count": 4,
   "metadata": {},
   "outputs": [
    {
     "name": "stdout",
     "output_type": "stream",
     "text": [
      "Score Cross-Validation: [[ 44.2256558 ]\n",
      " [ 82.85257259]\n",
      " [ 59.67642251]\n",
      " [103.29293291]\n",
      " [ 48.13481938]\n",
      " [ 74.40058773]\n",
      " [ 26.90379902]\n",
      " [ 20.00531046]\n",
      " [ 43.46017157]\n",
      " [ 62.87171425]\n",
      " [ 55.36184128]\n",
      " [ 32.10773481]\n",
      " [ 87.27820353]]\n",
      "\n",
      "Medium Score of the Cross-Validation : 56.96705890945887\n"
     ]
    }
   ],
   "source": [
    "scores_predict = cross_val_predict( model, time_studied, scores, cv=5) # cv=5 do the cross of datas\n",
    "\n",
    "print(f\"Score Cross-Validation: {scores_predict}\\n\")\n",
    "print(f\"Medium Score of the Cross-Validation : {scores_predict.mean()}\")"
   ]
  },
  {
   "cell_type": "markdown",
   "metadata": {},
   "source": [
    "## Save the Model"
   ]
  },
  {
   "cell_type": "code",
   "execution_count": 5,
   "metadata": {},
   "outputs": [
    {
     "data": {
      "text/plain": [
       "['Model_Predict_Score_Study.pkl']"
      ]
     },
     "execution_count": 5,
     "metadata": {},
     "output_type": "execute_result"
    }
   ],
   "source": [
    "joblib.dump(model, \"Model_Predict_Score_Study.pkl\")"
   ]
  },
  {
   "cell_type": "markdown",
   "metadata": {},
   "source": [
    "<!DOCTYPE html>\n",
    "<html lang=\"pt-BR\">\n",
    "<head>\n",
    "    <meta charset=\"UTF-8\">\n",
    "    <meta name=\"viewport\" content=\"width=device-width, initial-scale=1.0\">\n",
    "    <title>Estilo de Previsão</title>\n",
    "    <style>\n",
    "        .prediction-box {\n",
    "            background-color: #1E90FF; \n",
    "            color: white;\n",
    "            padding: 20px;\n",
    "            border-radius: 15px; \n",
    "            box-shadow: 0 4px 8px rgba(0, 0, 0, 0.2); \n",
    "            max-width: 400px; \n",
    "            margin: 20px auto; \n",
    "            text-align: center; \n",
    "        }\n",
    "        h2{\n",
    "            color: #000000;\n",
    "            text-align: center;\n",
    "            font-weight: bolder;\n",
    "        }\n",
    "    </style>\n",
    "</head>\n",
    "<body>\n",
    "\n",
    "<div class=\"prediction-box\">\n",
    "    <h2>Predicting News Values</h2>\n",
    "</div>\n",
    "\n",
    "</body>\n",
    "</html>\n"
   ]
  },
  {
   "cell_type": "code",
   "execution_count": null,
   "metadata": {},
   "outputs": [
    {
     "name": "stdout",
     "output_type": "stream",
     "text": [
      " Predicted SCORE for new data : [[44.18977379]\n",
      " [57.77114866]\n",
      " [37.39908636]]\n"
     ]
    }
   ],
   "source": [
    "model_loaded = joblib.load(\"Model_Predict_Score_Study.pkl\")\n",
    "\n",
    "new_data = np.array([float(x) for x in input(\"Pass the times of study (separated by spaces): \").split()]).reshape(-1, 1)\n",
    "predict = model_loaded.predict(new_data)\n",
    "\n",
    "print(f\" Predicted SCORE for new data : {predict}\")"
   ]
  }
 ],
 "metadata": {
  "kernelspec": {
   "display_name": "Python 3",
   "language": "python",
   "name": "python3"
  },
  "language_info": {
   "codemirror_mode": {
    "name": "ipython",
    "version": 3
   },
   "file_extension": ".py",
   "mimetype": "text/x-python",
   "name": "python",
   "nbconvert_exporter": "python",
   "pygments_lexer": "ipython3",
   "version": "3.8.0"
  }
 },
 "nbformat": 4,
 "nbformat_minor": 2
}
